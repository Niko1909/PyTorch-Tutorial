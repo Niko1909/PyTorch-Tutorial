{
  "nbformat": 4,
  "nbformat_minor": 0,
  "metadata": {
    "colab": {
      "provenance": [],
      "gpuType": "T4",
      "authorship_tag": "ABX9TyNUMgkAS+Fc3v7l+NZ2fu1/",
      "include_colab_link": true
    },
    "kernelspec": {
      "name": "python3",
      "display_name": "Python 3"
    },
    "language_info": {
      "name": "python"
    },
    "accelerator": "GPU"
  },
  "cells": [
    {
      "cell_type": "markdown",
      "metadata": {
        "id": "view-in-github",
        "colab_type": "text"
      },
      "source": [
        "<a href=\"https://colab.research.google.com/github/Niko1909/PyTorch-Tutorial/blob/main/torch_tutorial_ch0.ipynb\" target=\"_parent\"><img src=\"https://colab.research.google.com/assets/colab-badge.svg\" alt=\"Open In Colab\"/></a>"
      ]
    },
    {
      "cell_type": "markdown",
      "source": [
        "# Tutorial"
      ],
      "metadata": {
        "id": "k1dGAiPzIVQc"
      }
    },
    {
      "cell_type": "code",
      "execution_count": null,
      "metadata": {
        "colab": {
          "base_uri": "https://localhost:8080/"
        },
        "id": "51tGTC12RXX1",
        "outputId": "ef841b38-c253-4b0f-af47-c2fdd947d399"
      },
      "outputs": [
        {
          "output_type": "stream",
          "name": "stdout",
          "text": [
            "2.4.1+cu121\n"
          ]
        }
      ],
      "source": [
        "import torch\n",
        "import pandas as pd\n",
        "import numpy as np\n",
        "import matplotlib.pyplot as plt\n",
        "print(torch.__version__)"
      ]
    },
    {
      "cell_type": "code",
      "source": [
        "!nvidia-smi"
      ],
      "metadata": {
        "colab": {
          "base_uri": "https://localhost:8080/"
        },
        "id": "uHuCuMHrHwA7",
        "outputId": "ffd4ae3d-0da0-4137-823b-e2dee7e522bf"
      },
      "execution_count": null,
      "outputs": [
        {
          "output_type": "stream",
          "name": "stdout",
          "text": [
            "Thu Sep 19 21:06:34 2024       \n",
            "+---------------------------------------------------------------------------------------+\n",
            "| NVIDIA-SMI 535.104.05             Driver Version: 535.104.05   CUDA Version: 12.2     |\n",
            "|-----------------------------------------+----------------------+----------------------+\n",
            "| GPU  Name                 Persistence-M | Bus-Id        Disp.A | Volatile Uncorr. ECC |\n",
            "| Fan  Temp   Perf          Pwr:Usage/Cap |         Memory-Usage | GPU-Util  Compute M. |\n",
            "|                                         |                      |               MIG M. |\n",
            "|=========================================+======================+======================|\n",
            "|   0  Tesla T4                       Off | 00000000:00:04.0 Off |                    0 |\n",
            "| N/A   41C    P8               9W /  70W |      0MiB / 15360MiB |      0%      Default |\n",
            "|                                         |                      |                  N/A |\n",
            "+-----------------------------------------+----------------------+----------------------+\n",
            "                                                                                         \n",
            "+---------------------------------------------------------------------------------------+\n",
            "| Processes:                                                                            |\n",
            "|  GPU   GI   CI        PID   Type   Process name                            GPU Memory |\n",
            "|        ID   ID                                                             Usage      |\n",
            "|=======================================================================================|\n",
            "|  No running processes found                                                           |\n",
            "+---------------------------------------------------------------------------------------+\n"
          ]
        }
      ]
    },
    {
      "cell_type": "code",
      "source": [
        "a = torch.tensor(7) # scalar\n",
        "b = torch.tensor([7]) # vector\n",
        "c = torch.tensor([7,7]) # vector\n",
        "d = torch.tensor([[7,7],[7,7]]) # matrix\n",
        "e = torch.tensor([[[1,2],[1,2]],[[1,2],[1,2]]]) # tensor"
      ],
      "metadata": {
        "id": "kgsGu10TKeD6"
      },
      "execution_count": null,
      "outputs": []
    },
    {
      "cell_type": "code",
      "source": [
        "a.ndim, b.ndim, c.ndim, d.ndim, e.ndim"
      ],
      "metadata": {
        "colab": {
          "base_uri": "https://localhost:8080/"
        },
        "id": "tL4EoLN2LE9y",
        "outputId": "760cf457-2105-49cf-c575-862fc72e0076"
      },
      "execution_count": null,
      "outputs": [
        {
          "output_type": "execute_result",
          "data": {
            "text/plain": [
              "(0, 1, 1, 2, 3)"
            ]
          },
          "metadata": {},
          "execution_count": 5
        }
      ]
    },
    {
      "cell_type": "code",
      "source": [
        "a.shape, b.shape, c.shape, d.shape, e.shape"
      ],
      "metadata": {
        "colab": {
          "base_uri": "https://localhost:8080/"
        },
        "id": "eFPHKrVLLayK",
        "outputId": "9bd11c8e-ac63-4fec-8d94-09fe8135588a"
      },
      "execution_count": null,
      "outputs": [
        {
          "output_type": "execute_result",
          "data": {
            "text/plain": [
              "(torch.Size([]),\n",
              " torch.Size([1]),\n",
              " torch.Size([2]),\n",
              " torch.Size([2, 2]),\n",
              " torch.Size([2, 2, 2]))"
            ]
          },
          "metadata": {},
          "execution_count": 6
        }
      ]
    },
    {
      "cell_type": "code",
      "source": [
        "d[0]"
      ],
      "metadata": {
        "colab": {
          "base_uri": "https://localhost:8080/"
        },
        "id": "Irx0v0-0MaP9",
        "outputId": "af7127b7-cf97-4e36-ff2d-389ed91dcc6e"
      },
      "execution_count": null,
      "outputs": [
        {
          "output_type": "execute_result",
          "data": {
            "text/plain": [
              "tensor([7, 7])"
            ]
          },
          "metadata": {},
          "execution_count": 7
        }
      ]
    },
    {
      "cell_type": "code",
      "source": [
        "random_tensor = torch.rand(3, 4)\n",
        "random_tensor"
      ],
      "metadata": {
        "colab": {
          "base_uri": "https://localhost:8080/"
        },
        "id": "CHT-86DUQNFt",
        "outputId": "180e8ede-4889-4a8b-eb18-2fdf608cefff"
      },
      "execution_count": null,
      "outputs": [
        {
          "output_type": "execute_result",
          "data": {
            "text/plain": [
              "tensor([[0.2010, 0.1348, 0.0453, 0.7075],\n",
              "        [0.9715, 0.7038, 0.9468, 0.6770],\n",
              "        [0.9442, 0.0667, 0.3967, 0.5347]])"
            ]
          },
          "metadata": {},
          "execution_count": 8
        }
      ]
    },
    {
      "cell_type": "code",
      "source": [
        "zeros = torch.zeros(size=(3,4))\n",
        "ones = torch.ones(size=(3,4))\n",
        "zeros, ones"
      ],
      "metadata": {
        "colab": {
          "base_uri": "https://localhost:8080/"
        },
        "id": "BVrizMt_Sbxb",
        "outputId": "c8436cd8-aff6-44f6-b053-3f7aa175ea18"
      },
      "execution_count": null,
      "outputs": [
        {
          "output_type": "execute_result",
          "data": {
            "text/plain": [
              "(tensor([[0., 0., 0., 0.],\n",
              "         [0., 0., 0., 0.],\n",
              "         [0., 0., 0., 0.]]),\n",
              " tensor([[1., 1., 1., 1.],\n",
              "         [1., 1., 1., 1.],\n",
              "         [1., 1., 1., 1.]]))"
            ]
          },
          "metadata": {},
          "execution_count": 9
        }
      ]
    },
    {
      "cell_type": "code",
      "source": [
        "one_to_ten = torch.arange(start=0, end=11, step=1)\n",
        "one_to_ten"
      ],
      "metadata": {
        "colab": {
          "base_uri": "https://localhost:8080/"
        },
        "id": "gfsbx_DcSxyC",
        "outputId": "92a80614-fd65-4ff6-f908-8af2a549624c"
      },
      "execution_count": null,
      "outputs": [
        {
          "output_type": "execute_result",
          "data": {
            "text/plain": [
              "tensor([ 0,  1,  2,  3,  4,  5,  6,  7,  8,  9, 10])"
            ]
          },
          "metadata": {},
          "execution_count": 10
        }
      ]
    },
    {
      "cell_type": "code",
      "source": [
        "ten_zeros = torch.zeros_like(input=one_to_ten)\n",
        "ten_ones = torch.ones_like(input=one_to_ten)\n",
        "ten_rand = torch.rand(size=one_to_ten.shape)\n",
        "ten_zeros, ten_ones, ten_rand"
      ],
      "metadata": {
        "colab": {
          "base_uri": "https://localhost:8080/"
        },
        "id": "Bhr52LjaTLJ1",
        "outputId": "0e3fe09f-0383-4bb2-bd0e-193fb9436b53"
      },
      "execution_count": null,
      "outputs": [
        {
          "output_type": "execute_result",
          "data": {
            "text/plain": [
              "(tensor([0, 0, 0, 0, 0, 0, 0, 0, 0, 0, 0]),\n",
              " tensor([1, 1, 1, 1, 1, 1, 1, 1, 1, 1, 1]),\n",
              " tensor([0.6186, 0.4621, 0.7787, 0.0416, 0.4349, 0.1612, 0.2056, 0.7172, 0.4948,\n",
              "         0.1870, 0.8314]))"
            ]
          },
          "metadata": {},
          "execution_count": 11
        }
      ]
    },
    {
      "cell_type": "code",
      "source": [
        "float_32_tensor = torch.tensor([3.0, 6.0, 9.0],\n",
        "                               dtype=None, # standard float 32\n",
        "                               device=None,\n",
        "                               requires_grad=False)\n",
        "# float 32 is single precision, float 16 is half precision\n",
        "# the higher the bits to represent number, faster computing but less precision\n",
        "float_32_tensor.dtype"
      ],
      "metadata": {
        "colab": {
          "base_uri": "https://localhost:8080/"
        },
        "id": "M02K3R6mUM6G",
        "outputId": "f9016878-a24a-4b9e-f1df-4807b556f277"
      },
      "execution_count": null,
      "outputs": [
        {
          "output_type": "execute_result",
          "data": {
            "text/plain": [
              "torch.float32"
            ]
          },
          "metadata": {},
          "execution_count": 12
        }
      ]
    },
    {
      "cell_type": "code",
      "source": [
        "float_16_tensor = float_32_tensor.type(torch.float16)\n",
        "float_16_tensor"
      ],
      "metadata": {
        "colab": {
          "base_uri": "https://localhost:8080/"
        },
        "id": "g3ol3i0Uo4O9",
        "outputId": "e3c19968-8e2c-4f86-ae45-f839bd33fb61"
      },
      "execution_count": null,
      "outputs": [
        {
          "output_type": "execute_result",
          "data": {
            "text/plain": [
              "tensor([3., 6., 9.], dtype=torch.float16)"
            ]
          },
          "metadata": {},
          "execution_count": 13
        }
      ]
    },
    {
      "cell_type": "code",
      "source": [
        "(float_16_tensor * float_32_tensor).dtype"
      ],
      "metadata": {
        "colab": {
          "base_uri": "https://localhost:8080/"
        },
        "id": "dkgUfnRopM2p",
        "outputId": "b98df3c6-3833-4597-e45c-a8f87c04e6f8"
      },
      "execution_count": null,
      "outputs": [
        {
          "output_type": "execute_result",
          "data": {
            "text/plain": [
              "torch.float32"
            ]
          },
          "metadata": {},
          "execution_count": 14
        }
      ]
    },
    {
      "cell_type": "code",
      "source": [
        "int_32_tensor = torch.tensor([3, 6, 9],\n",
        "                             dtype=torch.int32)\n",
        "int_32_tensor"
      ],
      "metadata": {
        "colab": {
          "base_uri": "https://localhost:8080/"
        },
        "id": "zo7O___rvXv4",
        "outputId": "8ff43ebd-efb7-4608-b401-915cb8369885"
      },
      "execution_count": null,
      "outputs": [
        {
          "output_type": "execute_result",
          "data": {
            "text/plain": [
              "tensor([3, 6, 9], dtype=torch.int32)"
            ]
          },
          "metadata": {},
          "execution_count": 15
        }
      ]
    },
    {
      "cell_type": "code",
      "source": [
        "(float_32_tensor * int_32_tensor).dtype"
      ],
      "metadata": {
        "colab": {
          "base_uri": "https://localhost:8080/"
        },
        "id": "dUlMkYaKvez4",
        "outputId": "05e45edf-c689-4d8a-c8db-88fc2f502198"
      },
      "execution_count": null,
      "outputs": [
        {
          "output_type": "execute_result",
          "data": {
            "text/plain": [
              "torch.float32"
            ]
          },
          "metadata": {},
          "execution_count": 16
        }
      ]
    },
    {
      "cell_type": "code",
      "source": [
        "rand_tensor = torch.rand(size=(3,4,2))\n",
        "rand_tensor"
      ],
      "metadata": {
        "colab": {
          "base_uri": "https://localhost:8080/"
        },
        "id": "6PX0TUbwwAyO",
        "outputId": "4cdc32a2-f5a2-42ab-ef10-476bf4c50528"
      },
      "execution_count": null,
      "outputs": [
        {
          "output_type": "execute_result",
          "data": {
            "text/plain": [
              "tensor([[[0.1298, 0.2780],\n",
              "         [0.8747, 0.7344],\n",
              "         [0.1765, 0.9792],\n",
              "         [0.6239, 0.8841]],\n",
              "\n",
              "        [[0.6636, 0.4049],\n",
              "         [0.0256, 0.0845],\n",
              "         [0.1527, 0.1534],\n",
              "         [0.1162, 0.8502]],\n",
              "\n",
              "        [[0.0718, 0.9935],\n",
              "         [0.5240, 0.4398],\n",
              "         [0.5907, 0.8240],\n",
              "         [0.2199, 0.5132]]])"
            ]
          },
          "metadata": {},
          "execution_count": 17
        }
      ]
    },
    {
      "cell_type": "code",
      "source": [
        "rand_tensor.dtype, rand_tensor.shape, rand_tensor.device"
      ],
      "metadata": {
        "colab": {
          "base_uri": "https://localhost:8080/"
        },
        "id": "ztqpLi3nwXKv",
        "outputId": "d6d34c63-595b-4061-ba32-9cb3db457fe4"
      },
      "execution_count": null,
      "outputs": [
        {
          "output_type": "execute_result",
          "data": {
            "text/plain": [
              "(torch.float32, torch.Size([3, 4, 2]), device(type='cpu'))"
            ]
          },
          "metadata": {},
          "execution_count": 18
        }
      ]
    },
    {
      "cell_type": "code",
      "source": [
        "tensor = torch.arange(start=0, end=6)\n",
        "tensor"
      ],
      "metadata": {
        "colab": {
          "base_uri": "https://localhost:8080/"
        },
        "id": "mO78PSwnxYGL",
        "outputId": "0e6130fe-e9be-4b0b-d1d7-2104eecd7fa7"
      },
      "execution_count": null,
      "outputs": [
        {
          "output_type": "execute_result",
          "data": {
            "text/plain": [
              "tensor([0, 1, 2, 3, 4, 5])"
            ]
          },
          "metadata": {},
          "execution_count": 19
        }
      ]
    },
    {
      "cell_type": "code",
      "source": [
        "tensor+10, tensor-10, tensor*10, tensor/10,"
      ],
      "metadata": {
        "colab": {
          "base_uri": "https://localhost:8080/"
        },
        "id": "kGHr1o49x_pQ",
        "outputId": "6e236fa3-af9b-4804-db80-70701963cb14"
      },
      "execution_count": null,
      "outputs": [
        {
          "output_type": "execute_result",
          "data": {
            "text/plain": [
              "(tensor([10, 11, 12, 13, 14, 15]),\n",
              " tensor([-10,  -9,  -8,  -7,  -6,  -5]),\n",
              " tensor([ 0, 10, 20, 30, 40, 50]),\n",
              " tensor([0.0000, 0.1000, 0.2000, 0.3000, 0.4000, 0.5000]))"
            ]
          },
          "metadata": {},
          "execution_count": 20
        }
      ]
    },
    {
      "cell_type": "code",
      "source": [
        "torch.mul(tensor, 10), torch.add(tensor, 10)"
      ],
      "metadata": {
        "colab": {
          "base_uri": "https://localhost:8080/"
        },
        "id": "i1T2oYfcyYEi",
        "outputId": "5154864f-93d2-44db-d6b1-f168ad58fa8a"
      },
      "execution_count": null,
      "outputs": [
        {
          "output_type": "execute_result",
          "data": {
            "text/plain": [
              "(tensor([ 0, 10, 20, 30, 40, 50]), tensor([10, 11, 12, 13, 14, 15]))"
            ]
          },
          "metadata": {},
          "execution_count": 21
        }
      ]
    },
    {
      "cell_type": "code",
      "source": [
        "tensor=torch.tensor([1,2,3])\n",
        "tensor"
      ],
      "metadata": {
        "colab": {
          "base_uri": "https://localhost:8080/"
        },
        "id": "hLZaOrjMzdGN",
        "outputId": "7de5dc1c-7a9b-489a-d2b2-e51816507cff"
      },
      "execution_count": null,
      "outputs": [
        {
          "output_type": "execute_result",
          "data": {
            "text/plain": [
              "tensor([1, 2, 3])"
            ]
          },
          "metadata": {},
          "execution_count": 22
        }
      ]
    },
    {
      "cell_type": "code",
      "source": [
        "torch.matmul(tensor, tensor)"
      ],
      "metadata": {
        "colab": {
          "base_uri": "https://localhost:8080/"
        },
        "id": "0yhJ0OORzgoS",
        "outputId": "891a9756-3414-4f78-8f67-fad8ff579993"
      },
      "execution_count": null,
      "outputs": [
        {
          "output_type": "execute_result",
          "data": {
            "text/plain": [
              "tensor(14)"
            ]
          },
          "metadata": {},
          "execution_count": 23
        }
      ]
    },
    {
      "cell_type": "code",
      "source": [
        "x = torch.arange(0, 100, 10)\n",
        "x, x.dtype"
      ],
      "metadata": {
        "colab": {
          "base_uri": "https://localhost:8080/"
        },
        "id": "riPNoQEw41Cb",
        "outputId": "40d32c20-d914-42d8-94a2-31a1414f3c4a"
      },
      "execution_count": null,
      "outputs": [
        {
          "output_type": "execute_result",
          "data": {
            "text/plain": [
              "(tensor([ 0, 10, 20, 30, 40, 50, 60, 70, 80, 90]), torch.int64)"
            ]
          },
          "metadata": {},
          "execution_count": 24
        }
      ]
    },
    {
      "cell_type": "code",
      "source": [
        "x.min(), torch.min(x)"
      ],
      "metadata": {
        "colab": {
          "base_uri": "https://localhost:8080/"
        },
        "id": "DbVViRB25A_5",
        "outputId": "ea2ddfe9-d4a0-499d-88d3-71fd6259fd1a"
      },
      "execution_count": null,
      "outputs": [
        {
          "output_type": "execute_result",
          "data": {
            "text/plain": [
              "(tensor(0), tensor(0))"
            ]
          },
          "metadata": {},
          "execution_count": 25
        }
      ]
    },
    {
      "cell_type": "code",
      "source": [
        "torch.mean(x.type(torch.float32)) # cant do mean on long datatype"
      ],
      "metadata": {
        "colab": {
          "base_uri": "https://localhost:8080/"
        },
        "id": "Soj-6L8i5E9R",
        "outputId": "e43b53fe-3fa8-44ed-9d99-0cda19d94723"
      },
      "execution_count": null,
      "outputs": [
        {
          "output_type": "execute_result",
          "data": {
            "text/plain": [
              "tensor(45.)"
            ]
          },
          "metadata": {},
          "execution_count": 26
        }
      ]
    },
    {
      "cell_type": "code",
      "source": [
        "torch.sum(x), x.sum()"
      ],
      "metadata": {
        "colab": {
          "base_uri": "https://localhost:8080/"
        },
        "id": "_HbqOzof60Tl",
        "outputId": "3dde5a65-87a5-4d20-f2be-be9a63bf9aa4"
      },
      "execution_count": null,
      "outputs": [
        {
          "output_type": "execute_result",
          "data": {
            "text/plain": [
              "(tensor(450), tensor(450))"
            ]
          },
          "metadata": {},
          "execution_count": 27
        }
      ]
    },
    {
      "cell_type": "code",
      "source": [
        "torch.argmin(x), torch.argmax(x)"
      ],
      "metadata": {
        "colab": {
          "base_uri": "https://localhost:8080/"
        },
        "id": "Tgbg2kE17DEa",
        "outputId": "228b83d0-b1e2-43ae-aade-4ab9758ba160"
      },
      "execution_count": null,
      "outputs": [
        {
          "output_type": "execute_result",
          "data": {
            "text/plain": [
              "(tensor(0), tensor(9))"
            ]
          },
          "metadata": {},
          "execution_count": 28
        }
      ]
    },
    {
      "cell_type": "code",
      "source": [
        "x[torch.argmin(x)]"
      ],
      "metadata": {
        "colab": {
          "base_uri": "https://localhost:8080/"
        },
        "id": "No7ka1q17WSN",
        "outputId": "a0cb8922-5db3-4771-ef6e-13c0e5600e64"
      },
      "execution_count": null,
      "outputs": [
        {
          "output_type": "execute_result",
          "data": {
            "text/plain": [
              "tensor(0)"
            ]
          },
          "metadata": {},
          "execution_count": 29
        }
      ]
    },
    {
      "cell_type": "code",
      "source": [
        "121/1.5"
      ],
      "metadata": {
        "id": "_YhLkB0c7sMD",
        "outputId": "ebb3551e-665c-4308-e4be-416826d666d5",
        "colab": {
          "base_uri": "https://localhost:8080/"
        }
      },
      "execution_count": null,
      "outputs": [
        {
          "output_type": "execute_result",
          "data": {
            "text/plain": [
              "80.66666666666667"
            ]
          },
          "metadata": {},
          "execution_count": 30
        }
      ]
    },
    {
      "cell_type": "code",
      "source": [
        "x = torch.zeros(size=[5,1,5,1])\n",
        "x.shape, x.squeeze().shape, x.unsqueeze(dim=0).shape"
      ],
      "metadata": {
        "colab": {
          "base_uri": "https://localhost:8080/"
        },
        "id": "TakCmglMWFyI",
        "outputId": "4006ad49-edd1-476a-a1f2-51b266121302"
      },
      "execution_count": null,
      "outputs": [
        {
          "output_type": "execute_result",
          "data": {
            "text/plain": [
              "(torch.Size([5, 1, 5, 1]), torch.Size([5, 5]), torch.Size([1, 5, 1, 5, 1]))"
            ]
          },
          "metadata": {},
          "execution_count": 31
        }
      ]
    },
    {
      "cell_type": "code",
      "source": [
        "x = torch.rand(size=(224,224,3))\n",
        "x_permuted = x.permute(dims=(2,0,1))\n",
        "x_permuted.shape"
      ],
      "metadata": {
        "colab": {
          "base_uri": "https://localhost:8080/"
        },
        "id": "wAD3hLtodcY1",
        "outputId": "b9e5a508-e002-432a-ee8d-03476a53c3a6"
      },
      "execution_count": null,
      "outputs": [
        {
          "output_type": "execute_result",
          "data": {
            "text/plain": [
              "torch.Size([3, 224, 224])"
            ]
          },
          "metadata": {},
          "execution_count": 32
        }
      ]
    },
    {
      "cell_type": "code",
      "source": [
        "x[0,0,0] = 123\n",
        "x[0,0,0], x_permuted[0,0,0]"
      ],
      "metadata": {
        "colab": {
          "base_uri": "https://localhost:8080/"
        },
        "id": "KoqQ8vH0eV3Z",
        "outputId": "d2e9e0ae-0e36-43f9-e4a8-04c9546fa62d"
      },
      "execution_count": null,
      "outputs": [
        {
          "output_type": "execute_result",
          "data": {
            "text/plain": [
              "(tensor(123.), tensor(123.))"
            ]
          },
          "metadata": {},
          "execution_count": 33
        }
      ]
    },
    {
      "cell_type": "code",
      "source": [
        "x = torch.arange(1,10).reshape(1,3,3)\n",
        "x, x.shape"
      ],
      "metadata": {
        "colab": {
          "base_uri": "https://localhost:8080/"
        },
        "id": "43u5QOmyeb4L",
        "outputId": "ed4badd8-f149-4e30-b8ed-c8bc27378838"
      },
      "execution_count": null,
      "outputs": [
        {
          "output_type": "execute_result",
          "data": {
            "text/plain": [
              "(tensor([[[1, 2, 3],\n",
              "          [4, 5, 6],\n",
              "          [7, 8, 9]]]),\n",
              " torch.Size([1, 3, 3]))"
            ]
          },
          "metadata": {},
          "execution_count": 34
        }
      ]
    },
    {
      "cell_type": "code",
      "source": [
        "x[0,:,2]"
      ],
      "metadata": {
        "colab": {
          "base_uri": "https://localhost:8080/"
        },
        "id": "mMXUf-J-fSuU",
        "outputId": "ae08bcfd-372a-470d-b606-d1b45c45b144"
      },
      "execution_count": null,
      "outputs": [
        {
          "output_type": "execute_result",
          "data": {
            "text/plain": [
              "tensor([3, 6, 9])"
            ]
          },
          "metadata": {},
          "execution_count": 35
        }
      ]
    },
    {
      "cell_type": "code",
      "source": [
        "RANDOM_SEED = 42\n",
        "torch.manual_seed(RANDOM_SEED) # REPRODUCIBILITY\n",
        "\n",
        "x1 = torch.rand(3,4)\n",
        "x2 = torch.rand(3,4)\n",
        "x1, x2"
      ],
      "metadata": {
        "colab": {
          "base_uri": "https://localhost:8080/"
        },
        "id": "vOwpp3HHvvL2",
        "outputId": "5e12ab17-3738-478b-eeab-ff01b95c91f7"
      },
      "execution_count": null,
      "outputs": [
        {
          "output_type": "execute_result",
          "data": {
            "text/plain": [
              "(tensor([[0.8823, 0.9150, 0.3829, 0.9593],\n",
              "         [0.3904, 0.6009, 0.2566, 0.7936],\n",
              "         [0.9408, 0.1332, 0.9346, 0.5936]]),\n",
              " tensor([[0.8694, 0.5677, 0.7411, 0.4294],\n",
              "         [0.8854, 0.5739, 0.2666, 0.6274],\n",
              "         [0.2696, 0.4414, 0.2969, 0.8317]]))"
            ]
          },
          "metadata": {},
          "execution_count": 36
        }
      ]
    },
    {
      "cell_type": "code",
      "source": [
        "torch.manual_seed(RANDOM_SEED)\n",
        "\n",
        "x3 = torch.rand(3,4)\n",
        "x4 = torch.rand(3,4)\n",
        "x3, x4"
      ],
      "metadata": {
        "colab": {
          "base_uri": "https://localhost:8080/"
        },
        "id": "OeDfc1qvvyBg",
        "outputId": "dc2cd5df-f08c-4684-fd15-89f2436c1e47"
      },
      "execution_count": null,
      "outputs": [
        {
          "output_type": "execute_result",
          "data": {
            "text/plain": [
              "(tensor([[0.8823, 0.9150, 0.3829, 0.9593],\n",
              "         [0.3904, 0.6009, 0.2566, 0.7936],\n",
              "         [0.9408, 0.1332, 0.9346, 0.5936]]),\n",
              " tensor([[0.8694, 0.5677, 0.7411, 0.4294],\n",
              "         [0.8854, 0.5739, 0.2666, 0.6274],\n",
              "         [0.2696, 0.4414, 0.2969, 0.8317]]))"
            ]
          },
          "metadata": {},
          "execution_count": 37
        }
      ]
    },
    {
      "cell_type": "code",
      "source": [
        "x1 == x3, x2 == x4"
      ],
      "metadata": {
        "colab": {
          "base_uri": "https://localhost:8080/"
        },
        "id": "BSzNI4pmxLYs",
        "outputId": "dbff7b5a-6912-40b8-9800-3409938f10bb"
      },
      "execution_count": null,
      "outputs": [
        {
          "output_type": "execute_result",
          "data": {
            "text/plain": [
              "(tensor([[True, True, True, True],\n",
              "         [True, True, True, True],\n",
              "         [True, True, True, True]]),\n",
              " tensor([[True, True, True, True],\n",
              "         [True, True, True, True],\n",
              "         [True, True, True, True]]))"
            ]
          },
          "metadata": {},
          "execution_count": 38
        }
      ]
    },
    {
      "cell_type": "code",
      "source": [
        "torch.cuda.is_available()"
      ],
      "metadata": {
        "colab": {
          "base_uri": "https://localhost:8080/"
        },
        "id": "wraxbSG5y4GT",
        "outputId": "bcdff7c0-9028-4727-be18-90757360e4fa"
      },
      "execution_count": null,
      "outputs": [
        {
          "output_type": "execute_result",
          "data": {
            "text/plain": [
              "True"
            ]
          },
          "metadata": {},
          "execution_count": 39
        }
      ]
    },
    {
      "cell_type": "code",
      "source": [
        "device = 'cuda' if torch.cuda.is_available() else 'cpu'\n",
        "device"
      ],
      "metadata": {
        "colab": {
          "base_uri": "https://localhost:8080/",
          "height": 35
        },
        "id": "mknkzRhPy8ds",
        "outputId": "a1ca9bc1-baac-40c3-b735-ba8b783680a1"
      },
      "execution_count": null,
      "outputs": [
        {
          "output_type": "execute_result",
          "data": {
            "text/plain": [
              "'cuda'"
            ],
            "application/vnd.google.colaboratory.intrinsic+json": {
              "type": "string"
            }
          },
          "metadata": {},
          "execution_count": 40
        }
      ]
    },
    {
      "cell_type": "code",
      "source": [
        "x = torch.rand(3,4).to(device) # care: numpy cant use GPU tensors -> convert tensor back to cpu before converting it to numpy array\n",
        "x"
      ],
      "metadata": {
        "colab": {
          "base_uri": "https://localhost:8080/"
        },
        "id": "Z5DSmxVJ2xxZ",
        "outputId": "b688e57d-b3d3-4d8a-fb31-68468f3fb21f"
      },
      "execution_count": null,
      "outputs": [
        {
          "output_type": "execute_result",
          "data": {
            "text/plain": [
              "tensor([[0.1053, 0.2695, 0.3588, 0.1994],\n",
              "        [0.5472, 0.0062, 0.9516, 0.0753],\n",
              "        [0.8860, 0.5832, 0.3376, 0.8090]], device='cuda:0')"
            ]
          },
          "metadata": {},
          "execution_count": 41
        }
      ]
    },
    {
      "cell_type": "markdown",
      "source": [
        "# Exercise\n"
      ],
      "metadata": {
        "id": "yPLTPwyoFIbe"
      }
    },
    {
      "cell_type": "code",
      "source": [
        "tensor = torch.rand(7,7)\n",
        "tensor2 = torch.rand(1,7)\n",
        "tensor @ tensor2.T"
      ],
      "metadata": {
        "colab": {
          "base_uri": "https://localhost:8080/"
        },
        "id": "xq1xHE6FFLXz",
        "outputId": "8255849e-84a3-409b-df1e-1b5a781c9293"
      },
      "execution_count": null,
      "outputs": [
        {
          "output_type": "execute_result",
          "data": {
            "text/plain": [
              "tensor([[0.9454],\n",
              "        [0.9473],\n",
              "        [0.7089],\n",
              "        [1.4405],\n",
              "        [1.3714],\n",
              "        [0.9152],\n",
              "        [0.9704]])"
            ]
          },
          "metadata": {},
          "execution_count": 50
        }
      ]
    },
    {
      "cell_type": "code",
      "source": [
        "RANDOM_SEED = 0\n",
        "torch.manual_seed(RANDOM_SEED)\n",
        "tensor = torch.rand(7,7)\n",
        "tensor2 = torch.rand(1,7)\n",
        "tensor @ tensor2.T"
      ],
      "metadata": {
        "colab": {
          "base_uri": "https://localhost:8080/"
        },
        "id": "34i3dPBXL8Nz",
        "outputId": "cdd7b30b-a68f-4c38-9083-5438f70a181f"
      },
      "execution_count": null,
      "outputs": [
        {
          "output_type": "execute_result",
          "data": {
            "text/plain": [
              "tensor([[1.8542],\n",
              "        [1.9611],\n",
              "        [2.2884],\n",
              "        [3.0481],\n",
              "        [1.7067],\n",
              "        [2.5290],\n",
              "        [1.7989]])"
            ]
          },
          "metadata": {},
          "execution_count": 48
        }
      ]
    },
    {
      "cell_type": "code",
      "source": [
        "torch.cuda.manual_seed(1234)\n",
        "device = 'cuda' if torch.cuda.is_available() else 'cpu'\n",
        "rand1 = torch.rand(size=(2,3), device=device)\n",
        "rand2 = torch.rand(size=(2,3), device=device) # setting device using .to(device) messes up the reproducibility of the seed\n",
        "rand1, rand2"
      ],
      "metadata": {
        "colab": {
          "base_uri": "https://localhost:8080/"
        },
        "id": "waZ_SNFiMdGv",
        "outputId": "91f4e609-c423-4ca6-9d7b-34509a4acaf0"
      },
      "execution_count": null,
      "outputs": [
        {
          "output_type": "execute_result",
          "data": {
            "text/plain": [
              "(tensor([[0.1272, 0.8167, 0.5440],\n",
              "         [0.6601, 0.2721, 0.9737]], device='cuda:0'),\n",
              " tensor([[0.6208, 0.0276, 0.3255],\n",
              "         [0.1114, 0.6812, 0.3608]], device='cuda:0'))"
            ]
          },
          "metadata": {},
          "execution_count": 66
        }
      ]
    },
    {
      "cell_type": "code",
      "source": [
        "tensor = rand1 @ rand2.T\n",
        "tensor"
      ],
      "metadata": {
        "colab": {
          "base_uri": "https://localhost:8080/"
        },
        "id": "ukjIlWznOio1",
        "outputId": "87f360f1-3ea7-493f-8553-98bf8eb5b53e"
      },
      "execution_count": null,
      "outputs": [
        {
          "output_type": "execute_result",
          "data": {
            "text/plain": [
              "tensor([[0.2786, 0.7668],\n",
              "        [0.7343, 0.6102]], device='cuda:0')"
            ]
          },
          "metadata": {},
          "execution_count": 74
        }
      ]
    },
    {
      "cell_type": "code",
      "source": [
        "tensor.max(), tensor.min()"
      ],
      "metadata": {
        "colab": {
          "base_uri": "https://localhost:8080/"
        },
        "id": "14gxSof7PIbg",
        "outputId": "1fa9815e-65d2-4b1d-8f67-757132c767a9"
      },
      "execution_count": null,
      "outputs": [
        {
          "output_type": "execute_result",
          "data": {
            "text/plain": [
              "(tensor(0.7668, device='cuda:0'), tensor(0.2786, device='cuda:0'))"
            ]
          },
          "metadata": {},
          "execution_count": 75
        }
      ]
    },
    {
      "cell_type": "code",
      "source": [
        "torch.argmax(tensor), torch.argmin(tensor)"
      ],
      "metadata": {
        "colab": {
          "base_uri": "https://localhost:8080/"
        },
        "id": "RU6EMkUoOyhr",
        "outputId": "1d16ab31-97f9-4ba6-efb9-b16550c08af9"
      },
      "execution_count": null,
      "outputs": [
        {
          "output_type": "execute_result",
          "data": {
            "text/plain": [
              "(tensor(1, device='cuda:0'), tensor(0, device='cuda:0'))"
            ]
          },
          "metadata": {},
          "execution_count": 77
        }
      ]
    },
    {
      "cell_type": "code",
      "source": [
        "torch.manual_seed(7)\n",
        "tensor = torch.rand(1,1,1,10)\n",
        "squeeze_tensor = tensor.squeeze()\n",
        "squeeze_tensor.shape\n",
        "print(tensor, tensor.shape)\n",
        "print(squeeze_tensor, squeeze_tensor.shape)"
      ],
      "metadata": {
        "colab": {
          "base_uri": "https://localhost:8080/"
        },
        "id": "tVu2nhQvQIT0",
        "outputId": "a09e4641-6041-455a-ff67-dd0112cd4c8c"
      },
      "execution_count": null,
      "outputs": [
        {
          "output_type": "stream",
          "name": "stdout",
          "text": [
            "tensor([[[[0.5349, 0.1988, 0.6592, 0.6569, 0.2328, 0.4251, 0.2071, 0.6297,\n",
            "           0.3653, 0.8513]]]]) torch.Size([1, 1, 1, 10])\n",
            "tensor([0.5349, 0.1988, 0.6592, 0.6569, 0.2328, 0.4251, 0.2071, 0.6297, 0.3653,\n",
            "        0.8513]) torch.Size([10])\n"
          ]
        }
      ]
    }
  ]
}